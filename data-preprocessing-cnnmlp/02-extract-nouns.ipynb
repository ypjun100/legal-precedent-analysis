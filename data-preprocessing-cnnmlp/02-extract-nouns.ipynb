{
 "cells": [
  {
   "cell_type": "markdown",
   "metadata": {},
   "source": [
    "## 명사 추출"
   ]
  },
  {
   "cell_type": "markdown",
   "metadata": {},
   "source": [
    "클렌징 된 판결 요지 텍스트에서 명사만 추출합니다."
   ]
  },
  {
   "cell_type": "code",
   "execution_count": 1,
   "metadata": {},
   "outputs": [],
   "source": [
    "import pandas as pd\n",
    "import re\n",
    "from PyKomoran import *\n",
    "from tqdm import tqdm # 프로그레스바 출력을 위한 라이브러리"
   ]
  },
  {
   "cell_type": "code",
   "execution_count": 2,
   "metadata": {},
   "outputs": [],
   "source": [
    "komoran = Komoran(\"EXP\") # komoran full version 모델 적용\n",
    "\n",
    "dataframe = pd.read_excel(\"./output/01-text-preprocessing.xlsx\", engine='openpyxl') # 데이터 가져오기"
   ]
  },
  {
   "cell_type": "code",
   "execution_count": 3,
   "metadata": {},
   "outputs": [],
   "source": [
    "# 불용어 사전 정의\n",
    "stopwords = set()\n",
    "with open(\"../data-preprocessing-kobert/user_dic/stopwords\", \"r\") as f:\n",
    "    for line in f.readlines():\n",
    "        stopwords.add(line.strip())"
   ]
  },
  {
   "cell_type": "code",
   "execution_count": 5,
   "metadata": {},
   "outputs": [
    {
     "name": "stderr",
     "output_type": "stream",
     "text": [
      "100%|██████████| 20171/20171 [28:40<00:00, 11.73it/s]  \n"
     ]
    }
   ],
   "source": [
    "extracted_nouns = [] # 각 판례들에 대한 명사들 저장\n",
    "\n",
    "for reason in tqdm(dataframe[\"filtered_judgement_reason\"]):\n",
    "    # 명사 추출\n",
    "    nouns = []\n",
    "    for noun in komoran.get_nouns(reason):\n",
    "        if noun.isalpha() and (noun not in stopwords): # 단어에 숫자가 아닌 경우에만 저장 and 불용어 사전에 포함되지 않는 경우\n",
    "            nouns.append(noun)\n",
    "\n",
    "    extracted_nouns.append(' '.join(nouns))\n",
    "\n",
    "dataframe['extracted_nouns'] = extracted_nouns"
   ]
  },
  {
   "cell_type": "code",
   "execution_count": 6,
   "metadata": {},
   "outputs": [],
   "source": [
    "dataframe.to_excel(\"./output/02-extract-nouns.xlsx\", engine=\"openpyxl\")"
   ]
  },
  {
   "cell_type": "code",
   "execution_count": 7,
   "metadata": {},
   "outputs": [],
   "source": [
    "corpus = ''\n",
    "for nouns in extracted_nouns:\n",
    "    corpus += nouns + \"\\n\"\n",
    "    \n",
    "with open('./output/corpus.txt', 'w',encoding='utf-8') as f:\n",
    "    for c in corpus:\n",
    "        f.write(\"%s\" % c)"
   ]
  }
 ],
 "metadata": {
  "kernelspec": {
   "display_name": "venv",
   "language": "python",
   "name": "python3"
  },
  "language_info": {
   "codemirror_mode": {
    "name": "ipython",
    "version": 3
   },
   "file_extension": ".py",
   "mimetype": "text/x-python",
   "name": "python",
   "nbconvert_exporter": "python",
   "pygments_lexer": "ipython3",
   "version": "3.8.18"
  }
 },
 "nbformat": 4,
 "nbformat_minor": 2
}
