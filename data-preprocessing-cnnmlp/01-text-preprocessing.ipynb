{
 "cells": [
  {
   "cell_type": "markdown",
   "metadata": {},
   "source": [
    "## 텍스트 전처리"
   ]
  },
  {
   "cell_type": "markdown",
   "metadata": {},
   "source": [
    "판결 요지 부분에서 불용어 및 특수기호를 제거한 뒤 정규화 된 띄어쓰기를 사용하기 위한 교정을 진행합니다."
   ]
  },
  {
   "cell_type": "code",
   "execution_count": 19,
   "metadata": {},
   "outputs": [],
   "source": [
    "import pandas as pd\n",
    "import re\n",
    "from konlpy.tag import Okt"
   ]
  },
  {
   "cell_type": "code",
   "execution_count": 20,
   "metadata": {},
   "outputs": [],
   "source": [
    "# 기존 kobert 모델링에서 사용한 데이터 일부 사용\n",
    "dataframe = pd.read_excel(\"../data-preprocessing-kobert/output/03_data_output.xlsx\", engine='openpyxl')"
   ]
  },
  {
   "cell_type": "code",
   "execution_count": 21,
   "metadata": {},
   "outputs": [
    {
     "name": "stdout",
     "output_type": "stream",
     "text": [
      "Step  0\n",
      "Step  1000\n",
      "Step  2000\n",
      "Step  3000\n",
      "Step  4000\n",
      "Step  5000\n",
      "Step  6000\n",
      "Step  7000\n",
      "Step  8000\n",
      "Step  9000\n",
      "Step  10000\n",
      "Step  11000\n",
      "Step  12000\n",
      "Step  13000\n",
      "Step  14000\n",
      "Step  15000\n",
      "Step  16000\n",
      "Step  17000\n",
      "Step  18000\n",
      "Step  19000\n",
      "Step  20000\n"
     ]
    }
   ],
   "source": [
    "okt = Okt()\n",
    "filtered_judgement_reason = []\n",
    "\n",
    "# 정확한 뛰어쓰기를 위해 추가\n",
    "def spacing_okt(wrongSentence):\n",
    "    tagged = okt.pos(wrongSentence)\n",
    "    corrected = \"\"\n",
    "    for i in tagged:\n",
    "        if i[1] in ('Josa', 'PreEomi', 'Eomi', 'Suffix', 'Punctuation'):\n",
    "            corrected += i[0]\n",
    "        else:\n",
    "            corrected += \" \"+i[0]\n",
    "    if corrected[0] == \" \":\n",
    "        corrected = corrected[1:]\n",
    "    return corrected\n",
    "\n",
    "# 텍스트 전처리\n",
    "for i, row in dataframe.iterrows():\n",
    "    if i % 1000 == 0:\n",
    "        print(\"Step \", i)\n",
    "\n",
    "    reason = row['judgement_reason']\n",
    "    reason = reason.replace(',','').replace('\"','').replace('\\'','').replace('.','').replace('(',' ').\\\n",
    "            replace(')','').replace('!','').replace('?','').replace(':','').replace(';','').lower()\n",
    "    reason = reason.replace(\"\\n\",\" \")\n",
    "    reason = re.sub(r'\\d+?\\.\\s\\d+\\.\\s\\d+\\.', '', reason) # 날짜 제거\n",
    "    reason = re.sub(r'\\b\\w+법원|지원', '', reason) # 법원명 제거\n",
    "    reason = re.sub('수사보고|범 죄 사 실|범죄사실', '', reason) # 판례의 기본적인 문구 제거\n",
    "    reason = re.sub(r'[「」『』\\[\\],.:%○]', '', reason) # 특수기호 제거\n",
    "    \n",
    "    filtered_judgement_reason.append(spacing_okt(reason))\n",
    "\n",
    "dataframe['filtered_judgement_reason'] = filtered_judgement_reason\n"
   ]
  },
  {
   "cell_type": "code",
   "execution_count": 24,
   "metadata": {},
   "outputs": [],
   "source": [
    "dataframe.to_excel(\"./output/01-text-preprocessing.xlsx\", engine=\"openpyxl\")"
   ]
  }
 ],
 "metadata": {
  "kernelspec": {
   "display_name": "venv",
   "language": "python",
   "name": "python3"
  },
  "language_info": {
   "codemirror_mode": {
    "name": "ipython",
    "version": 3
   },
   "file_extension": ".py",
   "mimetype": "text/x-python",
   "name": "python",
   "nbconvert_exporter": "python",
   "pygments_lexer": "ipython3",
   "version": "3.8.18"
  }
 },
 "nbformat": 4,
 "nbformat_minor": 2
}
