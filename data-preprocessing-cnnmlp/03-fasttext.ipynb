{
 "cells": [
  {
   "cell_type": "markdown",
   "metadata": {},
   "source": [
    "## 명사 단어 벡터화"
   ]
  },
  {
   "cell_type": "markdown",
   "metadata": {},
   "source": [
    "추출된 명사 단어들을 벡터화(모델 입력으로 사용하기 위함) 하기 위해 FastText 모델을 사용하여 학습시킵니다.\n",
    "\n",
    "이때 W2V 모델이 아닌 FastText 모델을 사용하는 이유는 데이터의 수가 많은 편이 아니기 때문에 FastText 모델을 사용하여 단어 내에서도 어절 단위로 끊어 학습을 진행합니다."
   ]
  },
  {
   "cell_type": "code",
   "execution_count": null,
   "metadata": {},
   "outputs": [],
   "source": [
    "import logging\n",
    "from gensim.models.fasttext import FastText"
   ]
  },
  {
   "cell_type": "code",
   "execution_count": 5,
   "metadata": {},
   "outputs": [
    {
     "name": "stderr",
     "output_type": "stream",
     "text": [
      "2023-11-18 13:38:55,943 : INFO : collecting all words and their counts\n",
      "2023-11-18 13:38:55,945 : INFO : PROGRESS: at sentence #0, processed 0 words, keeping 0 word types\n",
      "2023-11-18 13:38:56,272 : INFO : PROGRESS: at sentence #10000, processed 1090614 words, keeping 9895 word types\n",
      "2023-11-18 13:38:56,549 : INFO : PROGRESS: at sentence #20000, processed 2278230 words, keeping 12912 word types\n",
      "2023-11-18 13:38:56,558 : INFO : collected 13018 word types from a corpus of 2306285 raw words and 20171 sentences\n",
      "2023-11-18 13:38:56,559 : INFO : Creating a fresh vocabulary\n",
      "2023-11-18 13:38:56,608 : INFO : FastText lifecycle event {'msg': 'effective_min_count=5 retains 6223 unique words (47.80% of original 13018, drops 6795)', 'datetime': '2023-11-18T13:38:56.608328', 'gensim': '4.3.2', 'python': '3.8.18 | packaged by conda-forge | (default, Oct 10 2023, 15:44:36) \\n[GCC 12.3.0]', 'platform': 'Linux-5.15.49-linuxkit-pr-x86_64-with-glibc2.10', 'event': 'prepare_vocab'}\n",
      "2023-11-18 13:38:56,609 : INFO : FastText lifecycle event {'msg': 'effective_min_count=5 leaves 2293280 word corpus (99.44% of original 2306285, drops 13005)', 'datetime': '2023-11-18T13:38:56.609584', 'gensim': '4.3.2', 'python': '3.8.18 | packaged by conda-forge | (default, Oct 10 2023, 15:44:36) \\n[GCC 12.3.0]', 'platform': 'Linux-5.15.49-linuxkit-pr-x86_64-with-glibc2.10', 'event': 'prepare_vocab'}\n",
      "2023-11-18 13:38:56,681 : INFO : deleting the raw counts dictionary of 13018 items\n",
      "2023-11-18 13:38:56,682 : INFO : sample=0.001 downsamples 75 most-common words\n",
      "2023-11-18 13:38:56,683 : INFO : FastText lifecycle event {'msg': 'downsampling leaves estimated 1506255.5719885086 word corpus (65.7%% of prior 2293280)', 'datetime': '2023-11-18T13:38:56.683669', 'gensim': '4.3.2', 'python': '3.8.18 | packaged by conda-forge | (default, Oct 10 2023, 15:44:36) \\n[GCC 12.3.0]', 'platform': 'Linux-5.15.49-linuxkit-pr-x86_64-with-glibc2.10', 'event': 'prepare_vocab'}\n",
      "2023-11-18 13:38:56,820 : INFO : estimated required memory for 6223 words, 2000000 buckets and 200 dimensions: 1613796720 bytes\n",
      "2023-11-18 13:38:56,821 : INFO : resetting layer weights\n",
      "2023-11-18 13:39:42,965 : INFO : FastText lifecycle event {'update': False, 'trim_rule': 'None', 'datetime': '2023-11-18T13:39:42.958751', 'gensim': '4.3.2', 'python': '3.8.18 | packaged by conda-forge | (default, Oct 10 2023, 15:44:36) \\n[GCC 12.3.0]', 'platform': 'Linux-5.15.49-linuxkit-pr-x86_64-with-glibc2.10', 'event': 'build_vocab'}\n",
      "2023-11-18 13:39:43,069 : INFO : FastText lifecycle event {'msg': 'training model with 3 workers on 6223 vocabulary and 200 features, using sg=0 hs=0 sample=0.001 negative=5 window=5 shrink_windows=True', 'datetime': '2023-11-18T13:39:43.069862', 'gensim': '4.3.2', 'python': '3.8.18 | packaged by conda-forge | (default, Oct 10 2023, 15:44:36) \\n[GCC 12.3.0]', 'platform': 'Linux-5.15.49-linuxkit-pr-x86_64-with-glibc2.10', 'event': 'train'}\n",
      "2023-11-18 13:39:44,476 : INFO : EPOCH 0 - PROGRESS: at 4.17% examples, 60132 words/s, in_qsize 4, out_qsize 1\n",
      "2023-11-18 13:39:45,589 : INFO : EPOCH 0 - PROGRESS: at 11.77% examples, 85925 words/s, in_qsize 4, out_qsize 1\n",
      "2023-11-18 13:39:46,609 : INFO : EPOCH 0 - PROGRESS: at 19.69% examples, 91895 words/s, in_qsize 4, out_qsize 1\n",
      "2023-11-18 13:39:47,682 : INFO : EPOCH 0 - PROGRESS: at 24.59% examples, 83950 words/s, in_qsize 5, out_qsize 0\n",
      "2023-11-18 13:39:48,752 : INFO : EPOCH 0 - PROGRESS: at 35.57% examples, 95894 words/s, in_qsize 5, out_qsize 1\n",
      "2023-11-18 13:39:49,805 : INFO : EPOCH 0 - PROGRESS: at 52.49% examples, 116404 words/s, in_qsize 5, out_qsize 2\n",
      "2023-11-18 13:39:50,862 : INFO : EPOCH 0 - PROGRESS: at 63.38% examples, 122000 words/s, in_qsize 3, out_qsize 2\n",
      "2023-11-18 13:39:51,877 : INFO : EPOCH 0 - PROGRESS: at 80.02% examples, 140349 words/s, in_qsize 5, out_qsize 0\n",
      "2023-11-18 13:39:52,908 : INFO : EPOCH 0 - PROGRESS: at 91.59% examples, 145036 words/s, in_qsize 6, out_qsize 2\n",
      "2023-11-18 13:39:53,357 : INFO : EPOCH 0: training on 2306285 raw words (1505674 effective words) took 9.9s, 151565 effective words/s\n",
      "2023-11-18 13:39:55,833 : INFO : EPOCH 1 - PROGRESS: at 13.04% examples, 136396 words/s, in_qsize 6, out_qsize 1\n",
      "2023-11-18 13:39:56,265 : INFO : EPOCH 1 - PROGRESS: at 13.48% examples, 74751 words/s, in_qsize 5, out_qsize 1\n",
      "2023-11-18 13:39:57,210 : INFO : EPOCH 1 - PROGRESS: at 31.20% examples, 109480 words/s, in_qsize 5, out_qsize 0\n",
      "2023-11-18 13:39:58,216 : INFO : EPOCH 1 - PROGRESS: at 62.91% examples, 185888 words/s, in_qsize 5, out_qsize 0\n",
      "2023-11-18 13:39:59,237 : INFO : EPOCH 1 - PROGRESS: at 90.13% examples, 231221 words/s, in_qsize 5, out_qsize 0\n",
      "2023-11-18 13:40:00,022 : INFO : EPOCH 1: training on 2306285 raw words (1506458 effective words) took 6.7s, 226267 effective words/s\n",
      "2023-11-18 13:40:01,036 : INFO : EPOCH 2 - PROGRESS: at 22.00% examples, 324395 words/s, in_qsize 5, out_qsize 0\n",
      "2023-11-18 13:40:02,041 : INFO : EPOCH 2 - PROGRESS: at 44.33% examples, 315328 words/s, in_qsize 6, out_qsize 0\n",
      "2023-11-18 13:40:03,054 : INFO : EPOCH 2 - PROGRESS: at 64.86% examples, 306283 words/s, in_qsize 5, out_qsize 0\n",
      "2023-11-18 13:40:04,072 : INFO : EPOCH 2 - PROGRESS: at 89.07% examples, 332758 words/s, in_qsize 5, out_qsize 0\n",
      "2023-11-18 13:40:04,383 : INFO : EPOCH 2: training on 2306285 raw words (1505827 effective words) took 4.4s, 345892 effective words/s\n",
      "2023-11-18 13:40:05,403 : INFO : EPOCH 3 - PROGRESS: at 34.55% examples, 485782 words/s, in_qsize 5, out_qsize 0\n",
      "2023-11-18 13:40:06,404 : INFO : EPOCH 3 - PROGRESS: at 67.56% examples, 482240 words/s, in_qsize 5, out_qsize 0\n",
      "2023-11-18 13:40:07,409 : INFO : EPOCH 3 - PROGRESS: at 96.35% examples, 478721 words/s, in_qsize 5, out_qsize 0\n",
      "2023-11-18 13:40:07,519 : INFO : EPOCH 3: training on 2306285 raw words (1506468 effective words) took 3.1s, 481102 effective words/s\n",
      "2023-11-18 13:40:08,524 : INFO : EPOCH 4 - PROGRESS: at 34.55% examples, 493327 words/s, in_qsize 5, out_qsize 0\n",
      "2023-11-18 13:40:09,528 : INFO : EPOCH 4 - PROGRESS: at 69.87% examples, 504676 words/s, in_qsize 5, out_qsize 0\n",
      "2023-11-18 13:40:10,461 : INFO : EPOCH 4: training on 2306285 raw words (1506005 effective words) took 2.9s, 512669 effective words/s\n",
      "2023-11-18 13:40:11,471 : INFO : EPOCH 5 - PROGRESS: at 35.19% examples, 503811 words/s, in_qsize 5, out_qsize 0\n",
      "2023-11-18 13:40:12,483 : INFO : EPOCH 5 - PROGRESS: at 69.49% examples, 498344 words/s, in_qsize 5, out_qsize 0\n",
      "2023-11-18 13:40:13,418 : INFO : EPOCH 5: training on 2306285 raw words (1506325 effective words) took 3.0s, 510440 effective words/s\n",
      "2023-11-18 13:40:14,437 : INFO : EPOCH 6 - PROGRESS: at 35.19% examples, 498347 words/s, in_qsize 5, out_qsize 0\n",
      "2023-11-18 13:40:15,475 : INFO : EPOCH 6 - PROGRESS: at 69.87% examples, 492942 words/s, in_qsize 5, out_qsize 0\n",
      "2023-11-18 13:40:16,752 : INFO : EPOCH 6 - PROGRESS: at 81.98% examples, 381170 words/s, in_qsize 3, out_qsize 2\n",
      "2023-11-18 13:40:17,631 : INFO : EPOCH 6: training on 2306285 raw words (1506727 effective words) took 4.2s, 357984 effective words/s\n",
      "2023-11-18 13:40:18,622 : INFO : EPOCH 7 - PROGRESS: at 35.91% examples, 517412 words/s, in_qsize 6, out_qsize 0\n",
      "2023-11-18 13:40:19,653 : INFO : EPOCH 7 - PROGRESS: at 71.01% examples, 503821 words/s, in_qsize 6, out_qsize 0\n",
      "2023-11-18 13:40:20,613 : INFO : EPOCH 7: training on 2306285 raw words (1505253 effective words) took 3.0s, 503224 effective words/s\n",
      "2023-11-18 13:40:21,628 : INFO : EPOCH 8 - PROGRESS: at 35.54% examples, 506209 words/s, in_qsize 5, out_qsize 0\n",
      "2023-11-18 13:40:22,645 : INFO : EPOCH 8 - PROGRESS: at 72.66% examples, 514669 words/s, in_qsize 5, out_qsize 0\n",
      "2023-11-18 13:40:23,507 : INFO : EPOCH 8: training on 2306285 raw words (1505417 effective words) took 2.9s, 521084 effective words/s\n",
      "2023-11-18 13:40:24,540 : INFO : EPOCH 9 - PROGRESS: at 35.54% examples, 497172 words/s, in_qsize 5, out_qsize 0\n",
      "2023-11-18 13:40:25,541 : INFO : EPOCH 9 - PROGRESS: at 69.87% examples, 498406 words/s, in_qsize 5, out_qsize 0\n",
      "2023-11-18 13:40:26,526 : INFO : EPOCH 9: training on 2306285 raw words (1505820 effective words) took 3.0s, 499535 effective words/s\n",
      "2023-11-18 13:40:26,527 : INFO : FastText lifecycle event {'msg': 'training on 23062850 raw words (15059974 effective words) took 43.4s, 346681 effective words/s', 'datetime': '2023-11-18T13:40:26.527767', 'gensim': '4.3.2', 'python': '3.8.18 | packaged by conda-forge | (default, Oct 10 2023, 15:44:36) \\n[GCC 12.3.0]', 'platform': 'Linux-5.15.49-linuxkit-pr-x86_64-with-glibc2.10', 'event': 'train'}\n",
      "2023-11-18 13:40:26,679 : INFO : FastText lifecycle event {'params': 'FastText<vocab=6223, vector_size=200, alpha=0.025>', 'datetime': '2023-11-18T13:40:26.679049', 'gensim': '4.3.2', 'python': '3.8.18 | packaged by conda-forge | (default, Oct 10 2023, 15:44:36) \\n[GCC 12.3.0]', 'platform': 'Linux-5.15.49-linuxkit-pr-x86_64-with-glibc2.10', 'event': 'created'}\n",
      "2023-11-18 13:40:26,694 : WARNING : Effective 'alpha' higher than previous training cycles\n",
      "2023-11-18 13:40:26,701 : INFO : FastText lifecycle event {'msg': 'training model with 3 workers on 6223 vocabulary and 200 features, using sg=0 hs=0 sample=0.001 negative=5 window=5 shrink_windows=True', 'datetime': '2023-11-18T13:40:26.701659', 'gensim': '4.3.2', 'python': '3.8.18 | packaged by conda-forge | (default, Oct 10 2023, 15:44:36) \\n[GCC 12.3.0]', 'platform': 'Linux-5.15.49-linuxkit-pr-x86_64-with-glibc2.10', 'event': 'train'}\n",
      "2023-11-18 13:40:30,393 : INFO : EPOCH 0 - PROGRESS: at 33.98% examples, 140043 words/s, in_qsize -1, out_qsize 1\n",
      "2023-11-18 13:40:30,602 : INFO : EPOCH 0: training on 2324469 raw words (1518105 effective words) took 3.7s, 405610 effective words/s\n",
      "2023-11-18 13:40:35,818 : INFO : EPOCH 1 - PROGRESS: at 33.98% examples, 95543 words/s, in_qsize -1, out_qsize 1\n",
      "2023-11-18 13:40:36,059 : INFO : EPOCH 1: training on 2324469 raw words (1517340 effective words) took 5.4s, 280064 effective words/s\n",
      "2023-11-18 13:40:39,775 : INFO : EPOCH 2 - PROGRESS: at 33.98% examples, 135480 words/s, in_qsize -1, out_qsize 1\n",
      "2023-11-18 13:40:39,953 : INFO : EPOCH 2: training on 2324469 raw words (1517635 effective words) took 3.8s, 396040 effective words/s\n",
      "2023-11-18 13:40:43,414 : INFO : EPOCH 3 - PROGRESS: at 33.98% examples, 143892 words/s, in_qsize -1, out_qsize 1\n",
      "2023-11-18 13:40:43,589 : INFO : EPOCH 3: training on 2324469 raw words (1517631 effective words) took 3.6s, 420024 effective words/s\n",
      "2023-11-18 13:40:48,244 : INFO : EPOCH 4 - PROGRESS: at 33.98% examples, 106756 words/s, in_qsize -1, out_qsize 1\n",
      "2023-11-18 13:40:48,501 : INFO : EPOCH 4: training on 2324469 raw words (1517674 effective words) took 4.9s, 310322 effective words/s\n",
      "2023-11-18 13:40:52,043 : INFO : EPOCH 5 - PROGRESS: at 33.98% examples, 140714 words/s, in_qsize -1, out_qsize 1\n",
      "2023-11-18 13:40:52,176 : INFO : EPOCH 5: training on 2324469 raw words (1517573 effective words) took 3.6s, 416140 effective words/s\n",
      "2023-11-18 13:40:55,139 : INFO : EPOCH 6 - PROGRESS: at 33.98% examples, 168149 words/s, in_qsize -1, out_qsize 1\n",
      "2023-11-18 13:40:55,330 : INFO : EPOCH 6: training on 2324469 raw words (1518132 effective words) took 3.1s, 484498 effective words/s\n",
      "2023-11-18 13:40:58,316 : INFO : EPOCH 7 - PROGRESS: at 33.98% examples, 167066 words/s, in_qsize -1, out_qsize 1\n",
      "2023-11-18 13:40:58,482 : INFO : EPOCH 7: training on 2324469 raw words (1518217 effective words) took 3.1s, 485056 effective words/s\n",
      "2023-11-18 13:41:01,420 : INFO : EPOCH 8 - PROGRESS: at 33.98% examples, 169573 words/s, in_qsize -1, out_qsize 1\n",
      "2023-11-18 13:41:01,592 : INFO : EPOCH 8: training on 2324469 raw words (1516980 effective words) took 3.1s, 491165 effective words/s\n",
      "2023-11-18 13:41:04,996 : INFO : EPOCH 9 - PROGRESS: at 33.98% examples, 146244 words/s, in_qsize -1, out_qsize 1\n",
      "2023-11-18 13:41:05,171 : INFO : EPOCH 9: training on 2324469 raw words (1518030 effective words) took 3.6s, 426584 effective words/s\n",
      "2023-11-18 13:41:05,177 : INFO : FastText lifecycle event {'msg': 'training on 23244690 raw words (15177317 effective words) took 38.5s, 394501 effective words/s', 'datetime': '2023-11-18T13:41:05.176319', 'gensim': '4.3.2', 'python': '3.8.18 | packaged by conda-forge | (default, Oct 10 2023, 15:44:36) \\n[GCC 12.3.0]', 'platform': 'Linux-5.15.49-linuxkit-pr-x86_64-with-glibc2.10', 'event': 'train'}\n",
      "2023-11-18 13:41:05,385 : INFO : storing 6223x200 projection weights into ft_1118.txt\n",
      "2023-11-18 13:41:07,150 : INFO : FastText lifecycle event {'fname_or_handle': 'ft_1118.model', 'separately': 'None', 'sep_limit': 10485760, 'ignore': frozenset(), 'datetime': '2023-11-18T13:41:07.149911', 'gensim': '4.3.2', 'python': '3.8.18 | packaged by conda-forge | (default, Oct 10 2023, 15:44:36) \\n[GCC 12.3.0]', 'platform': 'Linux-5.15.49-linuxkit-pr-x86_64-with-glibc2.10', 'event': 'saving'}\n",
      "2023-11-18 13:41:07,171 : INFO : storing np array 'vectors_ngrams' to ft_1118.model.wv.vectors_ngrams.npy\n",
      "2023-11-18 13:41:57,377 : INFO : not storing attribute vectors\n",
      "2023-11-18 13:41:57,387 : INFO : not storing attribute buckets_word\n",
      "2023-11-18 13:41:57,389 : INFO : not storing attribute cum_table\n",
      "2023-11-18 13:41:57,687 : INFO : saved ft_1118.model\n"
     ]
    }
   ],
   "source": [
    "logging.basicConfig(format='%(asctime)s : %(levelname)s : %(message)s', level=logging.INFO)\n",
    "\n",
    "corpus = [sent.strip().split(\" \") for sent in open(\"./output/corpus.txt\", 'r', encoding='utf-8').readlines()]\n",
    "\n",
    "model = FastText(corpus, vector_size=200, epochs=1000, window=5)\n",
    "\n",
    "model.train(\n",
    "    corpus_file=\"./output/corpus.txt\",\n",
    "    epochs=model.epochs, workers = 12,\n",
    "    total_examples=model.corpus_count, total_words=model.corpus_total_words\n",
    ")\n",
    "\n",
    "model.wv.save_word2vec_format('ft_1118.txt')\n",
    "model.save('ft_1118.model')"
   ]
  },
  {
   "cell_type": "code",
   "execution_count": 7,
   "metadata": {},
   "outputs": [
    {
     "name": "stderr",
     "output_type": "stream",
     "text": [
      "2023-11-18 13:43:40,894 : INFO : loading FastText object from ./model/ft_1118.model\n",
      "2023-11-18 13:43:40,984 : INFO : loading wv recursively from ./model/ft_1118.model.wv.* with mmap=None\n",
      "2023-11-18 13:43:40,990 : INFO : loading vectors_ngrams from ./model/ft_1118.model.wv.vectors_ngrams.npy with mmap=None\n",
      "2023-11-18 13:44:22,708 : INFO : setting ignored attribute vectors to None\n",
      "2023-11-18 13:44:22,733 : INFO : setting ignored attribute buckets_word to None\n",
      "2023-11-18 13:44:23,203 : INFO : setting ignored attribute cum_table to None\n",
      "2023-11-18 13:44:23,384 : INFO : FastText lifecycle event {'fname': './model/ft_1118.model', 'datetime': '2023-11-18T13:44:23.383641', 'gensim': '4.3.2', 'python': '3.8.18 | packaged by conda-forge | (default, Oct 10 2023, 15:44:36) \\n[GCC 12.3.0]', 'platform': 'Linux-5.15.49-linuxkit-pr-x86_64-with-glibc2.10', 'event': 'loaded'}\n"
     ]
    },
    {
     "name": "stdout",
     "output_type": "stream",
     "text": [
      "고등학교 - 0.870593\n",
      "학교 - 0.859759\n",
      "대학교 - 0.847543\n",
      "중학교 - 0.806007\n",
      "교회 - 0.785753\n",
      "독산역 - 0.745466\n",
      "철산역 - 0.741269\n",
      "가락시장 - 0.739527\n",
      "증산역 - 0.736069\n",
      "당산역 - 0.735030\n"
     ]
    }
   ],
   "source": [
    "result = FastText.load('./model/ft_1118.model')\n",
    "d = model.wv.most_similar(positive=[\"초등학교\"])\n",
    "for (x, y) in d:\n",
    "    print(\"%s - %f\" % (x,y))"
   ]
  },
  {
   "cell_type": "code",
   "execution_count": 8,
   "metadata": {},
   "outputs": [
    {
     "name": "stdout",
     "output_type": "stream",
     "text": [
      "어린이집 - 0.669969\n",
      "어린이대공원역 - 0.644940\n",
      "동등 - 0.617614\n",
      "청구역 - 0.559615\n",
      "도모 - 0.541052\n",
      "실종 - 0.538501\n",
      "대입 - 0.537531\n",
      "음란물 - 0.535708\n",
      "숙대입구역 - 0.532322\n",
      "흐름 - 0.521616\n"
     ]
    }
   ],
   "source": [
    "d = model.wv.most_similar(positive=[\"어린이\", \"보호\", \"구역\"])\n",
    "for (x, y) in d:\n",
    "    print(\"%s - %f\" % (x,y))"
   ]
  }
 ],
 "metadata": {
  "kernelspec": {
   "display_name": "venv",
   "language": "python",
   "name": "python3"
  },
  "language_info": {
   "codemirror_mode": {
    "name": "ipython",
    "version": 3
   },
   "file_extension": ".py",
   "mimetype": "text/x-python",
   "name": "python",
   "nbconvert_exporter": "python",
   "pygments_lexer": "ipython3",
   "version": "3.8.18"
  }
 },
 "nbformat": 4,
 "nbformat_minor": 2
}
