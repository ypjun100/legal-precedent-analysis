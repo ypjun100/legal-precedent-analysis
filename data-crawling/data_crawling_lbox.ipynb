{
 "cells": [
  {
   "cell_type": "markdown",
   "metadata": {},
   "source": [
    "## LBox 데이터 크롤링"
   ]
  },
  {
   "cell_type": "markdown",
   "metadata": {},
   "source": [
    "### 1. LBox 계정정보 가져오기\n",
    "LBox에 로그인할 계정 정보를 가져옵니다. 계정 정보는 현재 디렉토리에 `config_lbox.ini` 파일을 생성한뒤 아래와 같이 작성합니다.\n",
    "\n",
    "```ini\n",
    "[ACCOUNT1]\n",
    "email = 이메일1\n",
    "password = 비밀번호1\n",
    "\n",
    "[ACCOUNT2]\n",
    "email = 이메일2\n",
    "password = 비밀번호2\n",
    "```"
   ]
  },
  {
   "cell_type": "code",
   "execution_count": 1,
   "metadata": {},
   "outputs": [],
   "source": [
    "import configparser as parser\n",
    "\n",
    "properties = parser.ConfigParser()\n",
    "properties.read(\"./config_lbox.ini\")\n",
    "\n",
    "login_accounts = [properties['ACCOUNT1'], properties['ACCOUNT2']]"
   ]
  },
  {
   "cell_type": "markdown",
   "metadata": {},
   "source": [
    "### 2. 데이터 크롤링\n",
    "\n",
    "**기본 상수 설정**\n",
    "* `LOGIN_TOKEN` : 사용자 로그인 세션을 증명하는 토큰입니다.\n",
    "\n",
    "**법원 리스트**\n",
    "* 서울중앙지방법원\n",
    "* 서울동부지방법원\n",
    "* 서울남부지방법원\n",
    "* 서울북부지방법원\n",
    "* 서울서부지방법원\n",
    "* 의정부지방법원\n",
    "* 인천지방법원\n",
    "* 춘천지방법원\n",
    "* 대전지방법원\n",
    "* 청주지방법원\n",
    "* 대구지방법원\n",
    "* 부산지방법원\n",
    "* 울산지방법원\n",
    "* 창원지방법원\n",
    "* 광주지방법원\n",
    "* 전주지방법원\n",
    "* 제주지방법원\n",
    "* 수원지방법원"
   ]
  },
  {
   "cell_type": "code",
   "execution_count": 2,
   "metadata": {},
   "outputs": [
    {
     "name": "stdout",
     "output_type": "stream",
     "text": [
      "Your device id is 8945c8b3-8e46-432a-a6f7-7b56c0f51dbc\n"
     ]
    }
   ],
   "source": [
    "import requests\n",
    "import uuid\n",
    "\n",
    "############\n",
    "# 로그인 토큰\n",
    "############\n",
    "# 데이터를 가져오기 위해 로그인 토큰을 얻습니다.\n",
    "session = requests.session() # 로그인 데이터를 요청할 세션\n",
    "device_id = str(uuid.uuid4()) # 디바이스 ID\n",
    "account_index = 0 # 사용할 계정 인덱스\n",
    "\n",
    "def get_login_token():\n",
    "    login_response = session.post(\"https://lbox.kr/api/user/login?deviceId=not%20allowed%20\"+device_id, json={\"email\":login_accounts[account_index]['email'], \"password\":login_accounts[account_index]['password']})\n",
    "    return login_response.cookies.get_dict()['lboxToken']\n",
    "login_token = get_login_token()\n",
    "\n",
    "print(\"Your device id is\", device_id)"
   ]
  },
  {
   "cell_type": "code",
   "execution_count": 5,
   "metadata": {},
   "outputs": [
    {
     "name": "stderr",
     "output_type": "stream",
     "text": [
      "  0%|          | 0/879 [00:00<?, ?it/s]"
     ]
    },
    {
     "name": "stdout",
     "output_type": "stream",
     "text": [
      "[1 / 5] 창원지방법원 8790개\n"
     ]
    },
    {
     "name": "stderr",
     "output_type": "stream",
     "text": [
      "100%|██████████| 879/879 [2:20:30<00:00,  9.59s/it]  \n"
     ]
    },
    {
     "name": "stdout",
     "output_type": "stream",
     "text": [
      "Output file : output/data_창원지방법원.xlsx\n"
     ]
    },
    {
     "name": "stderr",
     "output_type": "stream",
     "text": [
      "  0%|          | 0/950 [00:00<?, ?it/s]"
     ]
    },
    {
     "name": "stdout",
     "output_type": "stream",
     "text": [
      "[2 / 5] 광주지방법원 9495개\n"
     ]
    },
    {
     "name": "stderr",
     "output_type": "stream",
     "text": [
      "  0%|          | 0/950 [00:01<?, ?it/s]\n"
     ]
    },
    {
     "ename": "KeyboardInterrupt",
     "evalue": "",
     "output_type": "error",
     "traceback": [
      "\u001b[0;31m---------------------------------------------------------------------------\u001b[0m",
      "\u001b[0;31mKeyboardInterrupt\u001b[0m                         Traceback (most recent call last)",
      "\u001b[0;32m<ipython-input-5-9a2ed4fe9713>\u001b[0m in \u001b[0;36m<module>\u001b[0;34m\u001b[0m\n\u001b[1;32m     56\u001b[0m         \u001b[0;31m# 해당 페이지의 판례들 가져오기\u001b[0m\u001b[0;34m\u001b[0m\u001b[0;34m\u001b[0m\u001b[0;34m\u001b[0m\u001b[0m\n\u001b[1;32m     57\u001b[0m         \u001b[0;32mfor\u001b[0m \u001b[0mcase\u001b[0m \u001b[0;32min\u001b[0m \u001b[0mcase_list_response\u001b[0m\u001b[0;34m[\u001b[0m\u001b[0;34m\"caseList\"\u001b[0m\u001b[0;34m]\u001b[0m\u001b[0;34m:\u001b[0m\u001b[0;34m\u001b[0m\u001b[0;34m\u001b[0m\u001b[0m\n\u001b[0;32m---> 58\u001b[0;31m             \u001b[0mtime\u001b[0m\u001b[0;34m.\u001b[0m\u001b[0msleep\u001b[0m\u001b[0;34m(\u001b[0m\u001b[0;36m0.5\u001b[0m\u001b[0;34m)\u001b[0m \u001b[0;31m# 잠시 대기\u001b[0m\u001b[0;34m\u001b[0m\u001b[0;34m\u001b[0m\u001b[0m\n\u001b[0m\u001b[1;32m     59\u001b[0m \u001b[0;34m\u001b[0m\u001b[0m\n\u001b[1;32m     60\u001b[0m             \u001b[0;31m# 캡챠 없이 정상적으로 크롤링할 수 있을 때만 진행\u001b[0m\u001b[0;34m\u001b[0m\u001b[0;34m\u001b[0m\u001b[0;34m\u001b[0m\u001b[0m\n",
      "\u001b[0;31mKeyboardInterrupt\u001b[0m: "
     ]
    }
   ],
   "source": [
    "from tqdm import trange # 프로그레스바 출력을 위한 라이브러리\n",
    "import pandas as pd\n",
    "import time\n",
    "import random\n",
    "import os\n",
    "import xlsxwriter\n",
    "\n",
    "\n",
    "#################\n",
    "# 상수\n",
    "#################\n",
    "# 크롤링 관련 상수\n",
    "# COURT_NAMES = [\"대전지방법원\", \"청주지방법원\", \"대구지방법원\", \"부산지방법원\", \"울산지방법원\", \"창원지방법원\", \"광주지방법원\", \"전주지방법원\", \"제주지방법원\", \"수원지방법원\"] # 크롤링할 법원명 리스트. 리스트 내에 있는 법원들만 크롤링함\n",
    "COURT_NAMES = [\"창원지방법원\", \"광주지방법원\", \"전주지방법원\", \"제주지방법원\", \"수원지방법원\"] # 크롤링할 법원명 리스트. 리스트 내에 있는 법원들만 크롤링함\n",
    "OUTPUT_PATH = \"output/\"     # 결과가 저장될 폴더 경로\n",
    "\n",
    "\n",
    "###############\n",
    "# 사용자 함수\n",
    "###############\n",
    "def save_to_excel(_dataframe, court_name):\n",
    "    _dataframe.to_excel(os.path.join(OUTPUT_PATH, \"data_{}.xlsx\".format(court_name)), index=False, engine = \"xlsxwriter\")\n",
    "    print(\"Output file : \" + os.path.join(OUTPUT_PATH, \"data_{}.xlsx\".format(court_name)))\n",
    "\n",
    "\n",
    "#############\n",
    "# 초기화\n",
    "#############\n",
    "# 결과 디렉토리가 없으면 생성\n",
    "if not os.path.exists(OUTPUT_PATH):\n",
    "    os.makedirs(OUTPUT_PATH)\n",
    "\n",
    "\n",
    "##############\n",
    "# 크롤링\n",
    "##############\n",
    "for (court_index, court_name) in enumerate(COURT_NAMES):\n",
    "    request_payload = {\"query\":\"도로교통법위반\",\"page\":0,\"size\":10,\"caseType\":\"criminal\",\"courtType\":\"\",\"trialType\":\"판결\",\"data\":court_name,\"range\":\"3\"} # 기본 요청 데이터\n",
    "\n",
    "    # 총 판례 수 가져오기\n",
    "    case_list_response = session.post(\"https://lbox.kr/api/case/search\", json=request_payload).json()\n",
    "    number_of_precedents = int(case_list_response['count'])\n",
    "    \n",
    "    # 총 페이지 수 계산\n",
    "    number_of_pages = (number_of_precedents // 10) + (0 if number_of_precedents % 10 == 0 else 1)\n",
    "\n",
    "    print(\"[{} / {}] {} {}개\".format(court_index + 1, len(COURT_NAMES), court_name, number_of_precedents))\n",
    "\n",
    "    # 판례 데이터 크롤링\n",
    "    dataframe = pd.DataFrame() # 최종 데이터가 저장될 데이터프레임\n",
    "    for page in trange(number_of_pages):\n",
    "        # 페이지 변경\n",
    "        request_payload[\"page\"] = page\n",
    "        case_list_response = session.post(\"https://lbox.kr/api/case/search\", json=request_payload).json()\n",
    "\n",
    "        # 해당 페이지의 판례들 가져오기\n",
    "        for case in case_list_response[\"caseList\"]:\n",
    "            time.sleep(0.5) # 잠시 대기\n",
    "\n",
    "            # 캡챠 없이 정상적으로 크롤링할 수 있을 때만 진행\n",
    "            crawling_status = False\n",
    "            while not crawling_status:\n",
    "                try:\n",
    "                    case_response = session.get(\"https://lbox.kr/api/case?id={}&searchKeyword=도로교통법위반\".format(case['id']), cookies={\"lboxToken\": login_token}).json()\n",
    "                    crawling_status = True\n",
    "                except:\n",
    "                    # 계정 전환\n",
    "                    try:\n",
    "                        # 다른 계정으로 새로운 로그인 토큰을 얻음\n",
    "                        account_index = 1 if account_index == 0 else 0\n",
    "                        login_token = get_login_token()\n",
    "                        # 다시 크롤링 진행\n",
    "                        case_response = session.get(\"https://lbox.kr/api/case?id={}&searchKeyword=도로교통법위반\".format(case['id']), cookies={\"lboxToken\": login_token}).json()\n",
    "                        crawling_status = True\n",
    "                    except:\n",
    "                        user_input = input(\"Try again? ('c' for exit)\")\n",
    "                        if user_input == 'c':\n",
    "                            save_to_excel(dataframe, court_name)\n",
    "                            raise\n",
    "\n",
    "            # 사건번호\n",
    "            case_number = case_response['case']['doc_id'][case_response['case']['doc_id'].index(\"-\") + 1:]\n",
    "\n",
    "            # 사건결과\n",
    "            case_result = case['result']\n",
    "\n",
    "            # 위반 그룹 (여러개일 수 있음)\n",
    "            violation_groups = case_response['case']['casename_groups']\n",
    "\n",
    "            # 위반 내용\n",
    "            violations = case_response['case']['casename_list']\n",
    "\n",
    "            # 판결선고, 주문, 이유, 변호인\n",
    "            judgement_date, judgement_decision, judgement_reason, attorney_name = \"\", \"\", \"\", \"\"\n",
    "            for section in case_response['case']['section_list']:\n",
    "                if section['title'] == \"판결선고\":\n",
    "                    judgement_date = section['text']\n",
    "                elif section['title'] == \"주문\":\n",
    "                    judgement_decision = section['text']\n",
    "                elif section['title'] == \"이유\":\n",
    "                    judgement_reason = section['text']\n",
    "                elif section['title'] == \"변호인\":\n",
    "                    attorney_name = section['text']\n",
    "\n",
    "            # 판사 이름\n",
    "            judge_name = case_response['case']['judges']\n",
    "\n",
    "            # 증거 URL\n",
    "            evidence_urls = case_response['case']['evidence_list']\n",
    "\n",
    "\n",
    "            # 임시 데이터프레임 생성 및 저장\n",
    "            _dataframe = pd.DataFrame({\n",
    "                \"court_name\" : court_name,\n",
    "                \"case_number\" : case_number,\n",
    "                \"case_result\" : case_result,\n",
    "                \"violation_groups\" : [violation_groups],\n",
    "                \"violations\" : [violations],\n",
    "                \"judgement_date\" : judgement_date,\n",
    "                \"judgement_decision\" : judgement_decision,\n",
    "                \"judgement_reason\" : judgement_reason,\n",
    "                \"judge_name\" : judge_name,\n",
    "                \"attorney_name\" : attorney_name,\n",
    "                \"evidence_urls\" : [evidence_urls]\n",
    "            })\n",
    "            dataframe = pd.concat([dataframe, _dataframe])\n",
    "    # 데이터 파일로 저장\n",
    "    save_to_excel(dataframe, court_name)"
   ]
  }
 ],
 "metadata": {
  "kernelspec": {
   "display_name": "base",
   "language": "python",
   "name": "python3"
  },
  "language_info": {
   "codemirror_mode": {
    "name": "ipython",
    "version": 3
   },
   "file_extension": ".py",
   "mimetype": "text/x-python",
   "name": "python",
   "nbconvert_exporter": "python",
   "pygments_lexer": "ipython3",
   "version": "3.7.6"
  }
 },
 "nbformat": 4,
 "nbformat_minor": 2
}
