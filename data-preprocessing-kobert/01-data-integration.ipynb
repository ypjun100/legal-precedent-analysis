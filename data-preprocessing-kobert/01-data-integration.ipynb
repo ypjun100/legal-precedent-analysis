{
 "cells": [
  {
   "cell_type": "markdown",
   "metadata": {},
   "source": [
    "## 데이터 통합"
   ]
  },
  {
   "cell_type": "markdown",
   "metadata": {},
   "source": [
    "각 지방법원마다 분리된 파일을 하나로 통합합니다."
   ]
  },
  {
   "cell_type": "code",
   "execution_count": 2,
   "metadata": {},
   "outputs": [],
   "source": [
    "import glob\n",
    "import pandas as pd\n",
    "import os\n",
    "\n",
    "INPUT_PATH = \"../data-crawling/output/\" # 데이터 파일들의 경로\n",
    "OUPUT_PATH = \"./output/\" # 데이터 출력 경로\n",
    "\n",
    "data_files = glob.glob(INPUT_PATH + \"data_*.xlsx\") # 데이터 파일들 경로와 이름을 가져옴\n",
    "\n",
    "dataframes = (pd.read_excel(file) for file in data_files) # 데이터프레임으로 불러오기\n",
    "\n",
    "merged_dataframe = pd.concat(dataframes, ignore_index=True) # 병합\n",
    "\n",
    "merged_dataframe.to_excel(os.path.join(OUPUT_PATH, \"01_data_output.xlsx\"), index=False, engine = \"xlsxwriter\") # 엑셀로 데이터 저장"
   ]
  }
 ],
 "metadata": {
  "kernelspec": {
   "display_name": "base",
   "language": "python",
   "name": "python3"
  },
  "language_info": {
   "codemirror_mode": {
    "name": "ipython",
    "version": 3
   },
   "file_extension": ".py",
   "mimetype": "text/x-python",
   "name": "python",
   "nbconvert_exporter": "python",
   "pygments_lexer": "ipython3",
   "version": "3.7.6"
  }
 },
 "nbformat": 4,
 "nbformat_minor": 2
}
