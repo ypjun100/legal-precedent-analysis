{
 "cells": [
  {
   "cell_type": "markdown",
   "metadata": {},
   "source": [
    "## 징역, 집행유예, 벌금 추출"
   ]
  },
  {
   "cell_type": "markdown",
   "metadata": {},
   "source": [
    "`case_result`에서 징역, 집행유예 여부, 벌금에 대한 정보를 가져온 후 새로운 컬럼에 저장합니다."
   ]
  },
  {
   "cell_type": "code",
   "execution_count": 68,
   "metadata": {},
   "outputs": [],
   "source": [
    "import pandas as pd\n",
    "import re\n",
    "import xlsxwriter\n",
    "import os\n",
    "\n",
    "INPUT_FILE_PATH = \"./output/02_data_output.xlsx\" # 입력 데이터 파일\n",
    "OUPUT_PATH = \"./output/\" # 데이터 출력 경로\n",
    "\n",
    "# 데이터 가져오기\n",
    "dataframe = pd.read_excel(INPUT_FILE_PATH)\n",
    "\n",
    "imprisonments, probations, fines = [], [], [] # 징역(달), 집행유예(년), 벌금\n",
    "\n",
    "for case_result in dataframe['case_result'][:]:\n",
    "    imprisonment, probation, fine = 0, 0, 0\n",
    "    for elem in case_result.split(\"·\"):\n",
    "        if \"징역\" in elem:\n",
    "            raw_imprisonment = re.sub(\"[(징역)(장기) ]\", \"\", elem)\n",
    "            year, month, tmp = 0, 0, \"\"\n",
    "            for char in raw_imprisonment:\n",
    "                if char == \"년\":\n",
    "                    year = int(tmp)\n",
    "                    tmp = \"\"\n",
    "                elif char == \"월\":\n",
    "                    month = int(tmp)\n",
    "                    tmp = \"\"\n",
    "                else:\n",
    "                    tmp += char\n",
    "            imprisonment = 12 * year + month\n",
    "        elif \"집행유예\" in elem:\n",
    "            probation = int(re.sub(\"[(집행유예)(년) ]\", \"\", elem))\n",
    "        elif \"벌금\" in elem:\n",
    "            fine = int(re.sub(\"[(벌금)(만원), ]\", \"\", elem))\n",
    "\n",
    "    imprisonments.append(imprisonment) # 징역 추가\n",
    "    probations.append(probation) # 집행유예 추가\n",
    "    fines.append(fine) # 벌금 추가\n",
    "\n",
    "# 징역, 집행유예, 벌금 열 추가\n",
    "dataframe['imprisonment'] = imprisonments\n",
    "dataframe['probation'] = probations\n",
    "dataframe['fine'] = fines\n",
    "\n",
    "# 엑셀파일로 저장\n",
    "dataframe.to_excel(os.path.join(OUPUT_PATH, \"03_data_output.xlsx\"), index=False, engine = \"xlsxwriter\")"
   ]
  }
 ],
 "metadata": {
  "kernelspec": {
   "display_name": "base",
   "language": "python",
   "name": "python3"
  },
  "language_info": {
   "codemirror_mode": {
    "name": "ipython",
    "version": 3
   },
   "file_extension": ".py",
   "mimetype": "text/x-python",
   "name": "python",
   "nbconvert_exporter": "python",
   "pygments_lexer": "ipython3",
   "version": "3.7.6"
  }
 },
 "nbformat": 4,
 "nbformat_minor": 2
}
