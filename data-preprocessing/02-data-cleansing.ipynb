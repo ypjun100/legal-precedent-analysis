{
 "cells": [
  {
   "cell_type": "markdown",
   "metadata": {},
   "source": [
    "## 데이터 정제"
   ]
  },
  {
   "cell_type": "code",
   "execution_count": 1,
   "metadata": {},
   "outputs": [],
   "source": [
    "import pandas as pd\n",
    "import os\n",
    "import xlsxwriter\n",
    "\n",
    "INPUT_FILE_PATH = \"./output/01_data_output.xlsx\" # 입력 데이터 파일\n",
    "OUPUT_PATH = \"./output/\" # 데이터 출력 경로\n",
    "\n",
    "dataframe = pd.read_excel(INPUT_FILE_PATH) # 데이터 불러오기\n",
    "\n",
    "dataframe = dataframe[dataframe['violation_groups'].str.contains('도로교통법위반', na=False)] # 도로교통법위반이 아닌 판례 제거\n",
    "\n",
    "# 결측치 제거\n",
    "columns_to_check = ['judgement_reason', 'judgement_decision', 'case_result'] # 3개 열에 대한 결측치 행 제거\n",
    "for col in columns_to_check:\n",
    "    dataframe = dataframe.dropna(subset = [col])\n",
    "\n",
    "# 필요 없는 행 제거\n",
    "columns_to_drop = ['judge_name', 'attorney_name', 'evidence_urls']\n",
    "dataframe = dataframe.drop(columns = columns_to_drop)\n",
    "\n",
    "dataframe.to_excel(os.path.join(OUPUT_PATH, \"02_data_output.xlsx\"), index=False, engine='xlsxwriter') #데이터 저장"
   ]
  }
 ],
 "metadata": {
  "kernelspec": {
   "display_name": "base",
   "language": "python",
   "name": "python3"
  },
  "language_info": {
   "codemirror_mode": {
    "name": "ipython",
    "version": 3
   },
   "file_extension": ".py",
   "mimetype": "text/x-python",
   "name": "python",
   "nbconvert_exporter": "python",
   "pygments_lexer": "ipython3",
   "version": "3.7.6"
  }
 },
 "nbformat": 4,
 "nbformat_minor": 2
}
