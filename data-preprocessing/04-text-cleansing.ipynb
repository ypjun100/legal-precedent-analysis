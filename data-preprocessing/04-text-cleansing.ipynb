{
 "cells": [
  {
   "cell_type": "markdown",
   "metadata": {},
   "source": [
    "## 텍스트 클렌징"
   ]
  },
  {
   "cell_type": "markdown",
   "metadata": {},
   "source": [
    "### 라이브러리 로딩, 형태소 분석기(Komoran) 초기화, 데이터 불러오기"
   ]
  },
  {
   "cell_type": "code",
   "execution_count": 11,
   "metadata": {},
   "outputs": [],
   "source": [
    "import pandas as pd\n",
    "import re\n",
    "import os\n",
    "import xlsxwriter\n",
    "from PyKomoran import *\n",
    "from tqdm import tqdm # 프로그레스바 출력을 위한 라이브러리\n",
    "\n",
    "\n",
    "INPUT_FILE_PATH = \"./output/03_data_output.xlsx\" # 입력 데이터 파일\n",
    "OUPUT_PATH = \"./output/\" # 데이터 출력 경로\n",
    "\n",
    "\n",
    "komoran = Komoran(\"EXP\") # komoran full version 모델 적용\n",
    "komoran.set_user_dic(\"./user_dic/dic1.user\") # 사용자 사전 등록\n",
    "\n",
    "komoran_light = Komoran(\"STABLE\") # komoran light version 모델 적용\n",
    "\n",
    "dataframe = pd.read_excel(INPUT_FILE_PATH) # 데이터 가져오기"
   ]
  },
  {
   "cell_type": "markdown",
   "metadata": {},
   "source": [
    "### 불용어 단어사전 불러오기"
   ]
  },
  {
   "cell_type": "code",
   "execution_count": 12,
   "metadata": {},
   "outputs": [],
   "source": [
    "stopwords = set()\n",
    "with open(\"./user_dic/stopwords\", \"r\") as f:\n",
    "    for line in f.readlines():\n",
    "        stopwords.add(line.strip())"
   ]
  },
  {
   "cell_type": "markdown",
   "metadata": {},
   "source": [
    "### 명사 추출"
   ]
  },
  {
   "cell_type": "code",
   "execution_count": 13,
   "metadata": {},
   "outputs": [],
   "source": [
    "extracted_nouns = [] # 각 판례들에 대한 명사들 저장\n",
    "filtered_judgement_reason = [] # 필터링된 판결 이유 저장\n",
    "\n",
    "for reason in tqdm(dataframe[\"judgement_reason\"]):\n",
    "    # 텍스트 클렌징\n",
    "    reason = re.sub(r'\\d+?\\.\\s\\d+\\.\\s\\d+\\.', '', reason) # 날짜 제거\n",
    "    reason = re.sub(r'\\b\\w+법원|지원', '', reason) # 법원명 제거\n",
    "    reason = re.sub('수사보고|범 죄 사 실|범죄사실', '', reason) # 판례의 기본적인 문구 제거\n",
    "    reason = re.sub(r'[「」『』\\[\\],.:%○]', '', reason) # 특수기호 제거\n",
    "\n",
    "    # Full 명사 추출\n",
    "    nouns = []\n",
    "    for noun in komoran.get_nouns(reason):\n",
    "        if noun.isalpha() and (noun not in stopwords) and (len(noun) > 1): # 단어에 숫자가 포함되지 않는 경우에만 저장 and 불용어 사전에 포함되지 않는 경우 and 단어 길이가 2이상인 단어만 저장\n",
    "            nouns.append(noun.replace(\" \", \"\")) # 띄어쓰기를 제거한 후 저장\n",
    "\n",
    "    # Light 명사 추출\n",
    "    for noun in komoran_light.get_nouns(reason):\n",
    "      if noun.isalpha() and (noun not in stopwords) \\\n",
    "          and (len(noun) > 1):\n",
    "          nouns.append(noun.replace(\" \", \"\")) # 띄어쓰기 제거\n",
    "\n",
    "    extracted_nouns.append(' '.join(nouns))\n",
    "    filtered_judgement_reason.append(reason)\n",
    "\n",
    "dataframe['extracted_nouns'] = extracted_nouns\n",
    "dataframe['filtered_judgement_reason'] = filtered_judgement_reason"
   ]
  },
  {
   "cell_type": "markdown",
   "metadata": {},
   "source": [
    "### 데이터 저장"
   ]
  },
  {
   "cell_type": "code",
   "execution_count": 10,
   "metadata": {},
   "outputs": [
    {
     "ename": "ValueError",
     "evalue": "Length of values does not match length of index",
     "output_type": "error",
     "traceback": [
      "\u001b[0;31m---------------------------------------------------------------------------\u001b[0m",
      "\u001b[0;31mValueError\u001b[0m                                Traceback (most recent call last)",
      "\u001b[0;32m<ipython-input-10-ec6f436a234a>\u001b[0m in \u001b[0;36m<module>\u001b[0;34m\u001b[0m\n\u001b[0;32m----> 1\u001b[0;31m \u001b[0mdataframe\u001b[0m\u001b[0;34m[\u001b[0m\u001b[0;34m'extracted_nouns'\u001b[0m\u001b[0;34m]\u001b[0m \u001b[0;34m=\u001b[0m \u001b[0mextracted_nouns\u001b[0m\u001b[0;34m\u001b[0m\u001b[0;34m\u001b[0m\u001b[0m\n\u001b[0m\u001b[1;32m      2\u001b[0m \u001b[0mdataframe\u001b[0m\u001b[0;34m[\u001b[0m\u001b[0;34m'filtered_judgement_reason'\u001b[0m\u001b[0;34m]\u001b[0m \u001b[0;34m=\u001b[0m \u001b[0;34m' '\u001b[0m\u001b[0;34m.\u001b[0m\u001b[0mjoin\u001b[0m\u001b[0;34m(\u001b[0m\u001b[0mfiltered_judgement_reason\u001b[0m\u001b[0;34m)\u001b[0m\u001b[0;34m\u001b[0m\u001b[0;34m\u001b[0m\u001b[0m\n\u001b[1;32m      3\u001b[0m \u001b[0;34m\u001b[0m\u001b[0m\n\u001b[1;32m      4\u001b[0m \u001b[0mdataframe\u001b[0m\u001b[0;34m.\u001b[0m\u001b[0mto_excel\u001b[0m\u001b[0;34m(\u001b[0m\u001b[0mos\u001b[0m\u001b[0;34m.\u001b[0m\u001b[0mpath\u001b[0m\u001b[0;34m.\u001b[0m\u001b[0mjoin\u001b[0m\u001b[0;34m(\u001b[0m\u001b[0mOUPUT_PATH\u001b[0m\u001b[0;34m,\u001b[0m \u001b[0;34m\"04_data_output.xlsx\"\u001b[0m\u001b[0;34m)\u001b[0m\u001b[0;34m,\u001b[0m \u001b[0mindex\u001b[0m\u001b[0;34m=\u001b[0m\u001b[0;32mFalse\u001b[0m\u001b[0;34m,\u001b[0m \u001b[0mengine\u001b[0m \u001b[0;34m=\u001b[0m \u001b[0;34m\"xlsxwriter\"\u001b[0m\u001b[0;34m)\u001b[0m\u001b[0;34m\u001b[0m\u001b[0;34m\u001b[0m\u001b[0m\n",
      "\u001b[0;32m/opt/conda/lib/python3.7/site-packages/pandas/core/frame.py\u001b[0m in \u001b[0;36m__setitem__\u001b[0;34m(self, key, value)\u001b[0m\n\u001b[1;32m   2936\u001b[0m         \u001b[0;32melse\u001b[0m\u001b[0;34m:\u001b[0m\u001b[0;34m\u001b[0m\u001b[0;34m\u001b[0m\u001b[0m\n\u001b[1;32m   2937\u001b[0m             \u001b[0;31m# set column\u001b[0m\u001b[0;34m\u001b[0m\u001b[0;34m\u001b[0m\u001b[0;34m\u001b[0m\u001b[0m\n\u001b[0;32m-> 2938\u001b[0;31m             \u001b[0mself\u001b[0m\u001b[0;34m.\u001b[0m\u001b[0m_set_item\u001b[0m\u001b[0;34m(\u001b[0m\u001b[0mkey\u001b[0m\u001b[0;34m,\u001b[0m \u001b[0mvalue\u001b[0m\u001b[0;34m)\u001b[0m\u001b[0;34m\u001b[0m\u001b[0;34m\u001b[0m\u001b[0m\n\u001b[0m\u001b[1;32m   2939\u001b[0m \u001b[0;34m\u001b[0m\u001b[0m\n\u001b[1;32m   2940\u001b[0m     \u001b[0;32mdef\u001b[0m \u001b[0m_setitem_slice\u001b[0m\u001b[0;34m(\u001b[0m\u001b[0mself\u001b[0m\u001b[0;34m,\u001b[0m \u001b[0mkey\u001b[0m\u001b[0;34m,\u001b[0m \u001b[0mvalue\u001b[0m\u001b[0;34m)\u001b[0m\u001b[0;34m:\u001b[0m\u001b[0;34m\u001b[0m\u001b[0;34m\u001b[0m\u001b[0m\n",
      "\u001b[0;32m/opt/conda/lib/python3.7/site-packages/pandas/core/frame.py\u001b[0m in \u001b[0;36m_set_item\u001b[0;34m(self, key, value)\u001b[0m\n\u001b[1;32m   2998\u001b[0m \u001b[0;34m\u001b[0m\u001b[0m\n\u001b[1;32m   2999\u001b[0m         \u001b[0mself\u001b[0m\u001b[0;34m.\u001b[0m\u001b[0m_ensure_valid_index\u001b[0m\u001b[0;34m(\u001b[0m\u001b[0mvalue\u001b[0m\u001b[0;34m)\u001b[0m\u001b[0;34m\u001b[0m\u001b[0;34m\u001b[0m\u001b[0m\n\u001b[0;32m-> 3000\u001b[0;31m         \u001b[0mvalue\u001b[0m \u001b[0;34m=\u001b[0m \u001b[0mself\u001b[0m\u001b[0;34m.\u001b[0m\u001b[0m_sanitize_column\u001b[0m\u001b[0;34m(\u001b[0m\u001b[0mkey\u001b[0m\u001b[0;34m,\u001b[0m \u001b[0mvalue\u001b[0m\u001b[0;34m)\u001b[0m\u001b[0;34m\u001b[0m\u001b[0;34m\u001b[0m\u001b[0m\n\u001b[0m\u001b[1;32m   3001\u001b[0m         \u001b[0mNDFrame\u001b[0m\u001b[0;34m.\u001b[0m\u001b[0m_set_item\u001b[0m\u001b[0;34m(\u001b[0m\u001b[0mself\u001b[0m\u001b[0;34m,\u001b[0m \u001b[0mkey\u001b[0m\u001b[0;34m,\u001b[0m \u001b[0mvalue\u001b[0m\u001b[0;34m)\u001b[0m\u001b[0;34m\u001b[0m\u001b[0;34m\u001b[0m\u001b[0m\n\u001b[1;32m   3002\u001b[0m \u001b[0;34m\u001b[0m\u001b[0m\n",
      "\u001b[0;32m/opt/conda/lib/python3.7/site-packages/pandas/core/frame.py\u001b[0m in \u001b[0;36m_sanitize_column\u001b[0;34m(self, key, value, broadcast)\u001b[0m\n\u001b[1;32m   3634\u001b[0m \u001b[0;34m\u001b[0m\u001b[0m\n\u001b[1;32m   3635\u001b[0m             \u001b[0;31m# turn me into an ndarray\u001b[0m\u001b[0;34m\u001b[0m\u001b[0;34m\u001b[0m\u001b[0;34m\u001b[0m\u001b[0m\n\u001b[0;32m-> 3636\u001b[0;31m             \u001b[0mvalue\u001b[0m \u001b[0;34m=\u001b[0m \u001b[0msanitize_index\u001b[0m\u001b[0;34m(\u001b[0m\u001b[0mvalue\u001b[0m\u001b[0;34m,\u001b[0m \u001b[0mself\u001b[0m\u001b[0;34m.\u001b[0m\u001b[0mindex\u001b[0m\u001b[0;34m,\u001b[0m \u001b[0mcopy\u001b[0m\u001b[0;34m=\u001b[0m\u001b[0;32mFalse\u001b[0m\u001b[0;34m)\u001b[0m\u001b[0;34m\u001b[0m\u001b[0;34m\u001b[0m\u001b[0m\n\u001b[0m\u001b[1;32m   3637\u001b[0m             \u001b[0;32mif\u001b[0m \u001b[0;32mnot\u001b[0m \u001b[0misinstance\u001b[0m\u001b[0;34m(\u001b[0m\u001b[0mvalue\u001b[0m\u001b[0;34m,\u001b[0m \u001b[0;34m(\u001b[0m\u001b[0mnp\u001b[0m\u001b[0;34m.\u001b[0m\u001b[0mndarray\u001b[0m\u001b[0;34m,\u001b[0m \u001b[0mIndex\u001b[0m\u001b[0;34m)\u001b[0m\u001b[0;34m)\u001b[0m\u001b[0;34m:\u001b[0m\u001b[0;34m\u001b[0m\u001b[0;34m\u001b[0m\u001b[0m\n\u001b[1;32m   3638\u001b[0m                 \u001b[0;32mif\u001b[0m \u001b[0misinstance\u001b[0m\u001b[0;34m(\u001b[0m\u001b[0mvalue\u001b[0m\u001b[0;34m,\u001b[0m \u001b[0mlist\u001b[0m\u001b[0;34m)\u001b[0m \u001b[0;32mand\u001b[0m \u001b[0mlen\u001b[0m\u001b[0;34m(\u001b[0m\u001b[0mvalue\u001b[0m\u001b[0;34m)\u001b[0m \u001b[0;34m>\u001b[0m \u001b[0;36m0\u001b[0m\u001b[0;34m:\u001b[0m\u001b[0;34m\u001b[0m\u001b[0;34m\u001b[0m\u001b[0m\n",
      "\u001b[0;32m/opt/conda/lib/python3.7/site-packages/pandas/core/internals/construction.py\u001b[0m in \u001b[0;36msanitize_index\u001b[0;34m(data, index, copy)\u001b[0m\n\u001b[1;32m    609\u001b[0m \u001b[0;34m\u001b[0m\u001b[0m\n\u001b[1;32m    610\u001b[0m     \u001b[0;32mif\u001b[0m \u001b[0mlen\u001b[0m\u001b[0;34m(\u001b[0m\u001b[0mdata\u001b[0m\u001b[0;34m)\u001b[0m \u001b[0;34m!=\u001b[0m \u001b[0mlen\u001b[0m\u001b[0;34m(\u001b[0m\u001b[0mindex\u001b[0m\u001b[0;34m)\u001b[0m\u001b[0;34m:\u001b[0m\u001b[0;34m\u001b[0m\u001b[0;34m\u001b[0m\u001b[0m\n\u001b[0;32m--> 611\u001b[0;31m         \u001b[0;32mraise\u001b[0m \u001b[0mValueError\u001b[0m\u001b[0;34m(\u001b[0m\u001b[0;34m\"Length of values does not match length of index\"\u001b[0m\u001b[0;34m)\u001b[0m\u001b[0;34m\u001b[0m\u001b[0;34m\u001b[0m\u001b[0m\n\u001b[0m\u001b[1;32m    612\u001b[0m \u001b[0;34m\u001b[0m\u001b[0m\n\u001b[1;32m    613\u001b[0m     \u001b[0;32mif\u001b[0m \u001b[0misinstance\u001b[0m\u001b[0;34m(\u001b[0m\u001b[0mdata\u001b[0m\u001b[0;34m,\u001b[0m \u001b[0mABCIndexClass\u001b[0m\u001b[0;34m)\u001b[0m \u001b[0;32mand\u001b[0m \u001b[0;32mnot\u001b[0m \u001b[0mcopy\u001b[0m\u001b[0;34m:\u001b[0m\u001b[0;34m\u001b[0m\u001b[0;34m\u001b[0m\u001b[0m\n",
      "\u001b[0;31mValueError\u001b[0m: Length of values does not match length of index"
     ]
    }
   ],
   "source": [
    "dataframe.to_excel(os.path.join(OUPUT_PATH, \"04_data_output.xlsx\"), index=False, engine = \"xlsxwriter\")"
   ]
  },
  {
   "cell_type": "markdown",
   "metadata": {},
   "source": [
    "### 전체 데이터에서 가장 많이 사용된 명사 단어 추출\n",
    "불용어 사전을 만들기 위해 전체 데이터에서 가장 많이 사용된 명사를 내림차순으로 출력합니다."
   ]
  },
  {
   "cell_type": "code",
   "execution_count": 101,
   "metadata": {},
   "outputs": [
    {
     "name": "stdout",
     "output_type": "stream",
     "text": [
      "[('피고인', 97917), ('운전', 38618), ('음주운전', 34030), ('형법', 32611), ('범행', 27101), ('차량', 25348), ('피해자', 24043), ('승용차', 21369), ('양형', 20810), ('상태', 20719), ('사건', 19946), ('도로', 19326), ('선택', 18043), ('정상', 16907), ('조의', 16748), ('정황', 14082), ('도로교통법', 13699), ('혈중알코올농도', 13646), ('서울', 13417), ('처벌', 13369), ('번호', 12944), ('생략', 12831), ('주취운전자', 12464), ('증거', 12292), ('이유', 11994), ('적용', 11212), ('해당', 11208), ('전력', 10957), ('요지', 10944), ('법정진술', 10882), ('징역형', 10718), ('집행유예', 10603), ('법조', 10521), ('법령', 10478), ('교통사고', 10066), ('자동차', 9866), ('사고', 9671), ('참작', 9146), ('주문', 9036), ('구간', 8745), ('결과', 8471), ('진행', 8380), ('상해', 8109), ('사람', 8083), ('범죄', 7995), ('성행', 7828), ('벌금형', 7748), ('정황진술보고서', 7705), ('위반', 7654), ('약식명령', 7572), ('종합', 7342), ('조건', 6968), ('부분', 6948), ('인정', 6883), ('종사', 6653), ('벌금', 6547), ('차로', 6476), ('명령', 6446), ('필요', 6347), ('환경', 6346), ('전방', 5997), ('범죄전력', 5888), ('조회', 5850), ('동기', 5638), ('변론', 5635), ('발생', 5631), ('치료', 5605), ('운전업무', 5396), ('판시', 5275), ('경위', 5186), ('나이', 5162), ('기록', 5127), ('전단', 5080), ('과실', 5069), ('음주', 5059), ('반성', 5057), ('이상', 4969), ('사정', 4948), ('기재', 4908), ('주간', 4877), ('보고', 4817), ('무면허운전', 4683), ('수단', 4539), ('범퍼', 4441), ('피해', 4393), ('고려', 4325), ('작량감경', 4297), ('당시', 4197), ('위험운전치상', 4173), ('혈중', 4169), ('농도', 4166), ('정도', 4121), ('염좌', 4048), ('사진', 4005), ('방면', 3928), ('선고', 3911), ('경우', 3903), ('단속', 3857), ('상황', 3813), ('알콜', 3797), ('실황조사서', 3764), ('진단서', 3707), ('확인', 3695), ('회보', 3656), ('현장', 3655), ('경력', 3650), ('전과', 3596), ('경찰', 3575), ('사실', 3550), ('동종', 3542), ('처리', 3534), ('방향', 3503), ('음주운전단속결과통보', 3428), ('수치', 3396), ('연령', 3374), ('진술서', 3256), ('업무', 3245), ('긴장', 3224), ('그럼에도 불구하고', 3183), ('업무상 주의의무', 3148), ('정차', 3124), ('치상', 3094), ('영상', 3093), ('피해자들', 3084), ('조작', 3053), ('거리', 3040), ('신호', 2979), ('상상적 경합', 2937), ('방지', 2893), ('조치', 2876), ('범위', 2847), ('징역', 2825), ('수강', 2812), ('곤란', 2801), ('판결', 2787), ('법률', 2765), ('음주측정', 2734), ('선택경합범가중', 2732), ('잘못', 2732), ('도주', 2702), ('진술', 2690), ('사회봉사명령', 2671), ('제동장치', 2651), ('운전면허', 2645), ('안전', 2609), ('충격', 2555), ('자신', 2539), ('업무상 과실', 2537), ('음주운전단속사실결과조회', 2432), ('감경', 2418), ('특정범죄 가중처벌 등에 관한 법률', 2414), ('보고서', 2402), ('관계', 2383), ('가입', 2364), ('고단', 2349), ('교통', 2295), ('상당', 2278), ('합의', 2272), ('특례법', 2256), ('좌우', 2228), ('위험', 2210), ('항수', 2170), ('영향', 2114), ('교차로', 2094), ('발령', 2080), ('주차장', 2051), ('경추', 2014), ('아파트', 1980), ('아래', 1976), ('부근', 1973), ('요구', 1969), ('속도', 1952), ('요소', 1901), ('장소', 1880), ('사거리', 1879), ('운행', 1851), ('오토바이', 1830), ('권고', 1819), ('신고', 1817), ('초과', 1805), ('손괴', 1800), ('형사', 1760), ('강서구', 1759), ('화물차', 1756), ('피의자', 1734), ('변경', 1733), ('방법', 1696), ('법원', 1688), ('진술조서', 1678), ('교통사고보고', 1662), ('주취', 1652), ('금지', 1648), ('보험', 1645), ('우측', 1636), ('조형', 1634), ('가족', 1626), ('제반', 1616), ('11', 1605), ('좌측', 1595), ('수리비', 1593), ('형사소송법', 1593), ('규정', 1570), ('인근', 1549), ('주장', 1547), ('블랙박스', 1538), ('금지규정', 1528), ('영등포구', 1523), ('경찰관', 1502), ('경합', 1497), ('불상', 1479), ('자동차운전면허대장', 1478), ('가중', 1469), ('운전자', 1452), ('판단', 1445), ('상호', 1434), ('경합범가중', 1400), ('재범', 1375), ('설치', 1364), ('쏘나타', 1354), ('첨부', 1347), ('택시', 1342), ('요추', 1339), ('음주측정거부', 1325), ('차례', 1324), ('관련', 1315), ('동시', 1295), ('다만', 1293), ('원동기장치자전거', 1291), ('경기', 1276), ('노역장유치', 1272), ('시간', 1271), ('대기', 1266), ('주시', 1244), ('보호관찰', 1243), ('의무보험', 1234), ('도주치상', 1234), ('시경', 1231), ('가납', 1231), ('구호', 1213), ('개정', 1212), ('고지', 1207), ('확정', 1206), ('행위', 1192), ('결정', 1180), ('단서', 1168), ('일시', 1151), ('기준', 1129), ('집행', 1126), ('내용', 1122), ('구로구', 1117), ('면허', 1113), ('조사', 1100), ('측정', 1096), ('이후', 1088), ('차선', 1079), ('고양시', 1069), ('사유', 1060), ('주차', 1059), ('수사', 1047), ('야간', 1044), ('사고후미조치', 1030), ('남양주시', 1012), ('공소사실', 1011), ('다짐', 997), ('죄질', 993), ('이하', 992), ('그랜저', 991), ('출동', 979), ('조향장치', 978), ('회복', 971), ('벤츠', 960), ('판결문', 960), ('합산', 948), ('견적서', 946), ('통보', 942), ('작성', 932), ('직진', 926), ('범죄경력조회', 920), ('금고형', 915), ('위험성', 913), ('소유', 910), ('아반떼', 906), ('방해', 903), ('사본', 901), ('양천구', 895), ('간격', 890), ('장기형', 884), ('미연', 879), ('적발', 873), ('사용', 868), ('금천구', 858), ('직업', 854), ('경위서', 852), ('식당', 846), ('좌회전', 842), ('이탈', 836), ('처단형', 831), ('송파구', 830), ('태도', 828), ('유형', 826)]\n"
     ]
    }
   ],
   "source": [
    "#########################\n",
    "# 전체 데이터에서 가장 많이 사용된 명사 단어 추출\n",
    "#########################\n",
    "word_counter = {}\n",
    "for reason in dataframe['judgement_reason']:\n",
    "    # 텍스트 클렌징\n",
    "    reason = re.sub(r'\\d+?\\.\\s\\d+\\.\\s\\d+\\.', '', reason) # 날짜 제거\n",
    "    reason = re.sub(r'\\b\\w+법원|지원', '', reason) # 법원명 제거\n",
    "    reason = re.sub('\\n[0-9]. ', '', reason) # 목차 숫자 제거 1\n",
    "    reason = re.sub('\\n\\([0-9]\\) ', '', reason) # 목차 숫자 제거 2\n",
    "    reason = re.sub('\\n[가-하]. ', '', reason) # 목차 한글 제거\n",
    "    reason = re.sub('수사보고|범 죄 사 실|범죄사실', '', reason) # 판례의 기본적인 문구 제거\n",
    "\n",
    "    # 명사 추출\n",
    "    nouns = komoran.get_nouns(reason) # 명사 추출\n",
    "    nouns = list(filter(lambda x : len(x) > 1, nouns)) # 단어 길이가 2 이상인 단어만 추출\n",
    "\n",
    "    # 워드 카운터\n",
    "    for noun in nouns:\n",
    "        if noun not in word_counter.keys():\n",
    "            word_counter[noun] = 1\n",
    "        else:\n",
    "            word_counter[noun] += 1\n",
    "\n",
    "print(sorted(word_counter.items(), key=lambda x:x[1], reverse=True)[:300])"
   ]
  }
 ],
 "metadata": {
  "kernelspec": {
   "display_name": "base",
   "language": "python",
   "name": "python3"
  },
  "language_info": {
   "codemirror_mode": {
    "name": "ipython",
    "version": 3
   },
   "file_extension": ".py",
   "mimetype": "text/x-python",
   "name": "python",
   "nbconvert_exporter": "python",
   "pygments_lexer": "ipython3",
   "version": "3.7.6"
  }
 },
 "nbformat": 4,
 "nbformat_minor": 2
}
